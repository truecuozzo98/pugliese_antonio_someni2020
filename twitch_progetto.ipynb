{
 "cells": [
  {
   "cell_type": "markdown",
   "metadata": {},
   "source": [
    "# Data Gathering"
   ]
  },
  {
   "cell_type": "code",
   "execution_count": null,
   "metadata": {},
   "outputs": [],
   "source": [
    "#dati aggiornati al 2 maggio\n",
    "\n",
    "import json\n",
    "import os\n",
    "import requests\n",
    "from bs4 import BeautifulSoup\n",
    "import networkx as nx\n",
    "from statsmodels.distributions.empirical_distribution import ECDF\n",
    "import numpy as np\n",
    "import matplotlib.pyplot as plt\n",
    "\n",
    "twitch_keys = json.load(open('json/keys.json','r'))['twitch']\n",
    "client_id = twitch_keys['client_id']\n",
    "client_secret = twitch_keys['client_secret']\n",
    "\n",
    "#access token\n",
    "url = 'https://id.twitch.tv/oauth2/token?client_id='+client_id+'&client_secret='+client_secret+'&grant_type=client_credentials'\n",
    "reply = requests.post(url)\n",
    "access_token = reply.json()['access_token']\n",
    "print(access_token)\n",
    "data = {'Client-ID': client_id, 'Authorization': 'Bearer ' + access_token}"
   ]
  },
  {
   "cell_type": "code",
   "execution_count": null,
   "metadata": {},
   "outputs": [],
   "source": [
    "def getFollowersById(id_twitcher):\n",
    "    cursor = \"\"\n",
    "    ids = []\n",
    "    \n",
    "    for i in range(100):\n",
    "        url = 'https://api.twitch.tv/helix/users/follows?to_id='+id_twitcher+'&first=100&after='+cursor\n",
    "        reply = requests.get(url, headers=data)\n",
    "        print(\"{} richiesta inviata\".format(i))\n",
    "        if len(reply.json()['pagination'])==0:\n",
    "            break\n",
    "        else:\n",
    "            cursor = reply.json()['pagination']['cursor']\n",
    "            for x in reply.json()['data']:\n",
    "                ids.append(x['from_id'])        \n",
    "    return(ids)\n",
    "\n",
    "def most_common(lst):\n",
    "    return max(set(lst), key=lst.count)"
   ]
  },
  {
   "cell_type": "code",
   "execution_count": null,
   "metadata": {},
   "outputs": [],
   "source": [
    "#top 500 canali con più followers\n",
    "url = 'https://socialblade.com/twitch/top/500/followers'\n",
    "headers_update = {\n",
    "    'User-Agent': 'Mozilla/5.0 (Windows NT 10.0; Win64; x64) AppleWebKit/537.36 ' + \n",
    "    ' (KHTML, like Gecko) Chrome/61.0.3163.100 Safari/537.36'\n",
    "}\n",
    "html_reply = requests.get(url, headers=headers_update).text\n",
    "html_soup = BeautifulSoup(html_reply, 'html.parser')\n",
    "\n",
    "\n",
    "header = []\n",
    "for found in html_soup.select('.table-header'):\n",
    "    header.append(found.text.replace('•', ''))\n",
    "print(header)\n",
    "\n",
    "\n",
    "cells_html = html_soup.select('.table-cell')\n",
    "channels = []\n",
    "for i in range(0, 2500, 5):\n",
    "    x = dict()\n",
    "    for h in header:    \n",
    "        x[h] = cells_html[i].text\n",
    "        i += 1\n",
    "    channels.append(x)\n",
    "\n",
    "channels_name_flw = []\n",
    "for x in channels:\n",
    "    channels_name_flw.append({'name': x['Username'], 'followers': x['Followers']})\n",
    "print(channels_name_flw)\n",
    "\n",
    "with open('json/channels_name_flw.json', 'w') as json_file:\n",
    "    json.dump(channels_name_flw, json_file)"
   ]
  },
  {
   "cell_type": "code",
   "execution_count": null,
   "metadata": {
    "scrolled": true
   },
   "outputs": [],
   "source": [
    "channels_id_json = []       \n",
    "print(data)\n",
    "for i in range(0, 500):\n",
    "    url = 'https://api.twitch.tv/helix/users?login=' + channels_name[i]\n",
    "    reply = requests.get(url, headers=data)\n",
    "    channels_id_json.append(reply.json())\n",
    "    print(i)\n",
    "    print(channels_id_json[i])\n",
    "    "
   ]
  },
  {
   "cell_type": "code",
   "execution_count": null,
   "metadata": {},
   "outputs": [],
   "source": [
    "print(len(channels_id_json))"
   ]
  },
  {
   "cell_type": "code",
   "execution_count": null,
   "metadata": {},
   "outputs": [],
   "source": [
    "with open('json/channels_id_json.json', 'w') as json_file:\n",
    "    json.dump(channels_id_json, json_file)"
   ]
  },
  {
   "cell_type": "code",
   "execution_count": null,
   "metadata": {},
   "outputs": [],
   "source": [
    "print(\"\\nCHANNELS ID\")\n",
    "\n",
    "with open('json/channels_id_json.json') as json_file:\n",
    "    channels_id_json = json.load(json_file)\n",
    "print(channels_id_json)\n",
    "\n",
    "channels_id = []\n",
    "idAndName = []\n",
    "for x in channels_id_json:\n",
    "    if x['data']:\n",
    "        channels_id.append(x['data'][0]['id'])\n",
    "        idAndName.append({'id': x['data'][0]['id'], 'name': x['data'][0]['display_name']})\n",
    "for _ in range(8):\n",
    "    del channels_id[-1]\n",
    "print(len(channels_id))\n",
    "\n",
    "with open('json/idAndName.json', 'w') as json_file:\n",
    "    json.dump(idAndName, json_file)"
   ]
  },
  {
   "cell_type": "code",
   "execution_count": null,
   "metadata": {},
   "outputs": [],
   "source": [
    "for i in range(500):\n",
    "    print(i)\n",
    "    json_obj = {'id':idAndName[i]['id'], 'name':idAndName[i]['name'], 'followers':getFollowersById(idAndName[i]['id'])}\n",
    "    with open('json/allFollowers.json', 'a') as f:\n",
    "        json.dump(json_obj, f)\n",
    "        f.write(os.linesep)"
   ]
  },
  {
   "cell_type": "code",
   "execution_count": null,
   "metadata": {
    "scrolled": true
   },
   "outputs": [],
   "source": [
    "flw = []\n",
    "for i in range(500):\n",
    "    print(i)\n",
    "    flw.append({'id':idAndName[i]['id'], 'name':idAndName[i]['name'], 'followers':getFollowersById(idAndName[i]['id'])})\n",
    "\n",
    "print(\"\\n\\n\\n\")\n",
    "    \n",
    "intersect = []    \n",
    "for i in range(500):\n",
    "    print(i)\n",
    "    set1 = set(flw[i]['followers'])\n",
    "    for j in range(500):\n",
    "         if i!=j:\n",
    "            set2 = set(flw[j]['followers'])\n",
    "            set3 = set1.intersection(set2)\n",
    "            intersect.append({'id1': flw[i]['id'], 'name1': flw[i]['name'],\n",
    "                              'id2': flw[j]['id'], 'name2': flw[j]['name'],\n",
    "                              'common_flw': len(set3)\n",
    "                             })\n",
    "\n",
    "with open('json/intersect.json', 'w') as json_file:\n",
    "    json.dump(intersect, json_file)"
   ]
  },
  {
   "cell_type": "code",
   "execution_count": null,
   "metadata": {},
   "outputs": [],
   "source": [
    "for x in intersect:\n",
    "    with open('data/edge_list.txt', 'a') as f:\n",
    "        if x['common_flw'] != 0:\n",
    "            line = x['id1'] + \" \" + x['id2'] + \" \" + str(x['common_flw'])\n",
    "            f.write(line)\n",
    "            f.write(os.linesep)"
   ]
  },
  {
   "cell_type": "markdown",
   "metadata": {},
   "source": [
    "# Top categories"
   ]
  },
  {
   "cell_type": "code",
   "execution_count": null,
   "metadata": {},
   "outputs": [],
   "source": [
    "topGameStreamer = []\n",
    "\n",
    "for i in range(0, len(channels_id)):\n",
    "    games = []\n",
    "    url = 'https://api.twitch.tv/helix/clips?broadcaster_id=' + channels_id[i] + '&first=100'\n",
    "    reply = requests.get(url, headers=data)\n",
    "    print(i)\n",
    "    if reply.json()['data']:\n",
    "        for y in reply.json()['data']:\n",
    "            url2 = 'https://api.twitch.tv/helix/games?id=' + y['game_id']\n",
    "            reply2 = requests.get(url2, headers=data)\n",
    "            if reply2.json()['data']:\n",
    "                games.append(reply2.json()['data'][0]['name'])\n",
    "        topGameStreamer.append({'streamer': channels_id[i], 'top_game': most_common(games)})\n",
    "    else: \n",
    "        topGameStreamer.append({'streamer': channels_id[i], 'top_game': \"NA\"})"
   ]
  },
  {
   "cell_type": "code",
   "execution_count": null,
   "metadata": {},
   "outputs": [],
   "source": [
    "with open('json/top_game.json', 'w') as json_file:\n",
    "    json.dump(topGameStreamer, json_file)        "
   ]
  }
 ],
 "metadata": {
  "kernelspec": {
   "display_name": "Python 3",
   "language": "python",
   "name": "python3"
  },
  "language_info": {
   "codemirror_mode": {
    "name": "ipython",
    "version": 3
   },
   "file_extension": ".py",
   "mimetype": "text/x-python",
   "name": "python",
   "nbconvert_exporter": "python",
   "pygments_lexer": "ipython3",
   "version": "3.7.6"
  }
 },
 "nbformat": 4,
 "nbformat_minor": 4
}
