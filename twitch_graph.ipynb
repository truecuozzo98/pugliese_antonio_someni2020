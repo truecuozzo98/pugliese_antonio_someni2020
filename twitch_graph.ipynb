{
 "cells": [
  {
   "cell_type": "markdown",
   "metadata": {},
   "source": [
    "# Graph"
   ]
  },
  {
   "cell_type": "code",
   "execution_count": 4,
   "metadata": {},
   "outputs": [],
   "source": [
    "import json\n",
    "import os\n",
    "import networkx as nx\n",
    "from statsmodels.distributions.empirical_distribution import ECDF\n",
    "import numpy as np\n",
    "import matplotlib.pyplot as plt\n",
    "from scipy.stats import norm\n",
    "\n",
    "graph = nx.Graph()\n",
    "with open('data/edge_list.txt') as f:\n",
    "    for line in f:\n",
    "        a, b, c = line.strip().split()\n",
    "        graph.add_edge(int(a), int(b), weight = int(c))\n",
    "\n",
    "with open('json/idAndName.json') as json_file:\n",
    "    idAndName = json.load(json_file)\n",
    "    \n",
    "with open('json/top_game.json') as json_file:\n",
    "    topGameStreamer = json.load(json_file)\n",
    "\n",
    "with open('json/channels_name_flw.json') as json_file:\n",
    "    channels_name_flw = json.load(json_file)\n",
    "    \n",
    "for i in range(500):\n",
    "    graph.nodes[int(idAndName[i]['id'])]['name'] = idAndName[i]['name']\n",
    "    graph.nodes[int(idAndName[i]['id'])]['followers'] = int(channels_name_flw[i]['followers'].replace(\",\", \"\"))\n",
    "    graph.nodes[int(idAndName[i]['id'])]['top_category'] = topGameStreamer[i]['top_game']\n",
    "    \n",
    "nx.write_gexf(graph, \"data/twitch_graph.gexf\")"
   ]
  },
  {
   "cell_type": "code",
   "execution_count": 5,
   "metadata": {},
   "outputs": [
    {
     "name": "stdout",
     "output_type": "stream",
     "text": [
      "Number of nodes: 500\n",
      "Number of links: 86283\n"
     ]
    }
   ],
   "source": [
    "print('Number of nodes: {}'.format(graph.order()))\n",
    "print('Number of links: {}'.format(graph.size()))"
   ]
  },
  {
   "cell_type": "code",
   "execution_count": 6,
   "metadata": {
    "scrolled": true
   },
   "outputs": [
    {
     "name": "stdout",
     "output_type": "stream",
     "text": [
      "Density: 0.6916472945891784\n",
      "Diameter: 2\n",
      "Average Shortest Path: 1.3083527054108217\n"
     ]
    }
   ],
   "source": [
    "density = nx.density(graph)\n",
    "print('Density: {}'.format(density))\n",
    "print('Diameter: {}'.format(nx.diameter(graph)))\n",
    "print('Average Shortest Path: {}'.format(nx.average_shortest_path_length(graph)))"
   ]
  },
  {
   "cell_type": "markdown",
   "metadata": {},
   "source": [
    "## Degree analysis"
   ]
  },
  {
   "cell_type": "code",
   "execution_count": 7,
   "metadata": {},
   "outputs": [],
   "source": [
    "degree = list(dict(graph.degree()).values())"
   ]
  },
  {
   "cell_type": "code",
   "execution_count": 8,
   "metadata": {},
   "outputs": [
    {
     "name": "stdout",
     "output_type": "stream",
     "text": [
      "Mean degree: 345.132\n",
      "Standard deviation: 94.3525440886466\n",
      "Median: 373.0\n",
      "Min: 39\n",
      "Max: 476\n"
     ]
    }
   ],
   "source": [
    "# Degree analysis\n",
    "\n",
    "print('Mean degree: {}'.format(np.mean(degree)))\n",
    "print('Standard deviation: {}'.format(np.std(degree)))\n",
    "print('Median: {}'.format(np.median(degree)))\n",
    "print('Min: {}'.format(np.min(degree)))\n",
    "print('Max: {}'.format(np.max(degree)))"
   ]
  }
 ],
 "metadata": {
  "celltoolbar": "Raw Cell Format",
  "kernelspec": {
   "display_name": "Python 3",
   "language": "python",
   "name": "python3"
  },
  "language_info": {
   "codemirror_mode": {
    "name": "ipython",
    "version": 3
   },
   "file_extension": ".py",
   "mimetype": "text/x-python",
   "name": "python",
   "nbconvert_exporter": "python",
   "pygments_lexer": "ipython3",
   "version": "3.7.6"
  }
 },
 "nbformat": 4,
 "nbformat_minor": 2
}
