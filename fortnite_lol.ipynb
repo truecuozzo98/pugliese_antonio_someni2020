{
 "cells": [
  {
   "cell_type": "markdown",
   "metadata": {},
   "source": [
    "# Graph"
   ]
  },
  {
   "cell_type": "code",
   "execution_count": 1,
   "metadata": {},
   "outputs": [],
   "source": [
    "import json\n",
    "import os\n",
    "import networkx as nx\n",
    "from statsmodels.distributions.empirical_distribution import ECDF\n",
    "import numpy as np\n",
    "import matplotlib.pyplot as plt\n",
    "\n",
    "g = nx.Graph()\n",
    "with open('data/edge_list.txt') as f:\n",
    "    for line in f:\n",
    "        a, b, c = line.strip().split()\n",
    "        g.add_node(int(a))\n",
    "        if int(c)>100:\n",
    "            g.add_edge(int(a), int(b), weight = int(c))\n",
    "\n",
    "with open('json/idAndName.json') as json_file:\n",
    "    idAndName = json.load(json_file)\n",
    "    \n",
    "with open('json/top_game.json') as json_file:\n",
    "    topGameStreamer = json.load(json_file)\n",
    "\n",
    "with open('json/channels_name_flw.json') as json_file:\n",
    "    channels_name_flw = json.load(json_file)\n",
    "    \n",
    "for i in range(500):\n",
    "    g.nodes[int(idAndName[i]['id'])]['name'] = idAndName[i]['name']\n",
    "    g.nodes[int(idAndName[i]['id'])]['followers'] = int(channels_name_flw[i]['followers'].replace(\",\", \"\"))\n",
    "    g.nodes[int(idAndName[i]['id'])]['top_category'] = topGameStreamer[i]['top_game']\n",
    "\n",
    "\n",
    "fortnite_lol = [n for n,v in g.nodes(data=True) if v['top_category'] == 'Fortnite' or v['top_category'] == \"League of Legends\"]\n",
    "graph = g.subgraph(fortnite_lol)"
   ]
  },
  {
   "cell_type": "code",
   "execution_count": 2,
   "metadata": {},
   "outputs": [
    {
     "name": "stdout",
     "output_type": "stream",
     "text": [
      "Number of nodes: 164\n",
      "Number of links: 1088\n"
     ]
    }
   ],
   "source": [
    "print('Number of nodes: {}'.format(graph.order()))\n",
    "print('Number of links: {}'.format(graph.size()))"
   ]
  },
  {
   "cell_type": "code",
   "execution_count": 3,
   "metadata": {
    "scrolled": true
   },
   "outputs": [
    {
     "name": "stdout",
     "output_type": "stream",
     "text": [
      "Density: 0.08140056860691307\n"
     ]
    }
   ],
   "source": [
    "density = nx.density(graph)\n",
    "print('Density: {}'.format(density))"
   ]
  },
  {
   "cell_type": "markdown",
   "metadata": {},
   "source": [
    "## Degree analysis"
   ]
  },
  {
   "cell_type": "code",
   "execution_count": 4,
   "metadata": {},
   "outputs": [],
   "source": [
    "degree = list(dict(graph.degree()).values())"
   ]
  },
  {
   "cell_type": "code",
   "execution_count": 5,
   "metadata": {},
   "outputs": [
    {
     "name": "stdout",
     "output_type": "stream",
     "text": [
      "Mean degree: 13.268292682926829\n",
      "Standard deviation: 9.943190807106733\n",
      "Median: 10.0\n",
      "Min: 0\n",
      "Max: 35\n"
     ]
    }
   ],
   "source": [
    "# Degree analysis\n",
    "\n",
    "print('Mean degree: {}'.format(np.mean(degree)))\n",
    "print('Standard deviation: {}'.format(np.std(degree)))\n",
    "print('Median: {}'.format(np.median(degree)))\n",
    "print('Min: {}'.format(np.min(degree)))\n",
    "print('Max: {}'.format(np.max(degree)))"
   ]
  },
  {
   "cell_type": "markdown",
   "metadata": {},
   "source": [
    "## Assortativity"
   ]
  },
  {
   "cell_type": "code",
   "execution_count": 6,
   "metadata": {},
   "outputs": [
    {
     "name": "stdout",
     "output_type": "stream",
     "text": [
      "0.9098105856509304\n"
     ]
    }
   ],
   "source": [
    "print(nx.attribute_assortativity_coefficient(graph,'top_category'))"
   ]
  }
 ],
 "metadata": {
  "celltoolbar": "Raw Cell Format",
  "kernelspec": {
   "display_name": "Python 3",
   "language": "python",
   "name": "python3"
  },
  "language_info": {
   "codemirror_mode": {
    "name": "ipython",
    "version": 3
   },
   "file_extension": ".py",
   "mimetype": "text/x-python",
   "name": "python",
   "nbconvert_exporter": "python",
   "pygments_lexer": "ipython3",
   "version": "3.7.6"
  }
 },
 "nbformat": 4,
 "nbformat_minor": 2
}
